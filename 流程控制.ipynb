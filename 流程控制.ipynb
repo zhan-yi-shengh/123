{
 "cells": [
  {
   "cell_type": "markdown",
   "metadata": {},
   "source": [
    "第三章 流程控制"
   ]
  },
  {
   "cell_type": "code",
   "execution_count": 2,
   "metadata": {},
   "outputs": [
    {
     "name": "stdout",
     "output_type": "stream",
     "text": [
      "請輸入攝氏溫度:50\n",
      "華氏溫度: 90.0\n"
     ]
    }
   ],
   "source": [
    "celsius = input(\"請輸入攝氏溫度:\")\n",
    "fahrenheit = (9/5) * int(celsius)\n",
    "print(\"華氏溫度:\",fahrenheit)"
   ]
  },
  {
   "cell_type": "code",
   "execution_count": 3,
   "metadata": {},
   "outputs": [
    {
     "name": "stdout",
     "output_type": "stream",
     "text": [
      "樣本= [5, 8, 6, 4, 9, 12, 2, 1]\n",
      "平均數= 5.875\n",
      "最大值= 12\n",
      "最小值= 1\n",
      "變異數= 13.55\n",
      "標準差= 3.68\n"
     ]
    }
   ],
   "source": [
    "import statistics as st\n",
    "sample = [5,8,6,4,9,12,2,1]\n",
    "print(\"樣本=\",sample)\n",
    "print(\"平均數=\",st.mean(sample))\n",
    "print(\"最大值=\",max(sample))\n",
    "print(\"最小值=\",min(sample))\n",
    "print(\"變異數=\",round(st.variance(sample),2))\n",
    "print(\"標準差=\",round(st.stdev(sample),2))"
   ]
  },
  {
   "cell_type": "code",
   "execution_count": 5,
   "metadata": {},
   "outputs": [
    {
     "name": "stdout",
     "output_type": "stream",
     "text": [
      "B數字比較大\n"
     ]
    }
   ],
   "source": [
    "a=3\n",
    "b=4\n",
    "if a<=b:\n",
    "    print(\"B數字比較大\")\n",
    "else:\n",
    "    print(\"A數字比較大\")"
   ]
  },
  {
   "cell_type": "code",
   "execution_count": 7,
   "metadata": {},
   "outputs": [
    {
     "name": "stdout",
     "output_type": "stream",
     "text": [
      "總和為: 55\n"
     ]
    }
   ],
   "source": [
    "sum=0\n",
    "for count in range(1,11,1): #1~10\n",
    "#for count in range(11):    #0~10\n",
    "    sum+=count\n",
    "print(\"總和為:\",sum)"
   ]
  },
  {
   "cell_type": "code",
   "execution_count": 9,
   "metadata": {},
   "outputs": [
    {
     "name": "stdout",
     "output_type": "stream",
     "text": [
      "總和為: 0\n"
     ]
    }
   ],
   "source": [
    "sum=0\n",
    "for count in range(10,11,-1): #1~10  #(-1)不會執行\n",
    "    sum+=count\n",
    "print(\"總和為:\",sum)"
   ]
  },
  {
   "cell_type": "code",
   "execution_count": 10,
   "metadata": {},
   "outputs": [
    {
     "name": "stdout",
     "output_type": "stream",
     "text": [
      "l\n",
      "i\n",
      "s\n",
      "t\n",
      " \n",
      "s\n",
      "t\n",
      "a\n",
      "t\n",
      "e\n",
      "m\n",
      "e\n",
      "n\n",
      "t\n",
      "end\n"
     ]
    }
   ],
   "source": [
    "mylist=\"list statement\"\n",
    "for word in mylist:\n",
    "    print(word)\n",
    "else:\n",
    "    print(\"end\")"
   ]
  },
  {
   "cell_type": "code",
   "execution_count": 1,
   "metadata": {},
   "outputs": [
    {
     "name": "stdout",
     "output_type": "stream",
     "text": [
      "雞有 23 隻,兔子有 12 隻\n"
     ]
    }
   ],
   "source": [
    "#雞兔同籠。若共有35歌頭，94隻腳，問共有雞隻雞?幾隻兔?\n",
    "for chicken in range(0,36):\n",
    "    rabbit=35-chicken\n",
    "    if (2*chicken+4*rabbit) ==94:\n",
    "        print(\"雞有\",chicken,\"隻,兔子有\",rabbit,\"隻\")\n",
    "        break\n",
    "else:\n",
    "    print(\"無解\")"
   ]
  },
  {
   "cell_type": "code",
   "execution_count": 3,
   "metadata": {},
   "outputs": [
    {
     "name": "stdout",
     "output_type": "stream",
     "text": [
      "1+2+3+...+10 總和為: 55\n"
     ]
    }
   ],
   "source": [
    "#while迴圈\n",
    "sum=0\n",
    "count=0\n",
    "while count <=10:\n",
    "    sum += count\n",
    "    count +=1\n",
    "print(\"1+2+3+...+10 總和為:\",sum)"
   ]
  },
  {
   "cell_type": "code",
   "execution_count": 5,
   "metadata": {},
   "outputs": [
    {
     "name": "stdout",
     "output_type": "stream",
     "text": [
      "7 年後本金會變成 21969\n"
     ]
    }
   ],
   "source": [
    "# \"x\"本金10000元，年利率1.9%，請問多久銀行存款會加倍\n",
    "year=0\n",
    "x=10000\n",
    "while x <=20000:\n",
    "    x = x*1.19\n",
    "    year = year+1\n",
    "print (year,\"年後本金會變成\",int(x))"
   ]
  },
  {
   "cell_type": "code",
   "execution_count": 7,
   "metadata": {},
   "outputs": [
    {
     "name": "stdout",
     "output_type": "stream",
     "text": [
      "請輸入1~5的數字:1\n",
      "你猜對了\n"
     ]
    }
   ],
   "source": [
    "#猜數字\n",
    "import random\n",
    "number = random.randint(1,5)\n",
    "#number=11\n",
    "while True:\n",
    "    guess=int(input(\"請輸入1~5的數字:\"))\n",
    "    if guess==number:\n",
    "        print(\"你猜對了\")\n",
    "        break\n",
    "    else:\n",
    "        print(\"你猜錯囉\")"
   ]
  },
  {
   "cell_type": "code",
   "execution_count": 10,
   "metadata": {},
   "outputs": [
    {
     "name": "stdout",
     "output_type": "stream",
     "text": [
      "14\n",
      "12\n",
      "18\n",
      "35\n",
      "4\n",
      "25\n"
     ]
    }
   ],
   "source": [
    "#樂透6碼數字\n",
    "import numpy as np\n",
    "a=np.random.randint(1,50,size=6) #1~49的數字\n",
    "for eacha in a:\n",
    "    print(eacha)"
   ]
  },
  {
   "cell_type": "code",
   "execution_count": null,
   "metadata": {},
   "outputs": [],
   "source": []
  }
 ],
 "metadata": {
  "kernelspec": {
   "display_name": "Python 3",
   "language": "python",
   "name": "python3"
  },
  "language_info": {
   "codemirror_mode": {
    "name": "ipython",
    "version": 3
   },
   "file_extension": ".py",
   "mimetype": "text/x-python",
   "name": "python",
   "nbconvert_exporter": "python",
   "pygments_lexer": "ipython3",
   "version": "3.6.4"
  }
 },
 "nbformat": 4,
 "nbformat_minor": 2
}
