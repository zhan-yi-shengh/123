{
 "cells": [
  {
   "cell_type": "code",
   "execution_count": 6,
   "metadata": {},
   "outputs": [
    {
     "name": "stdout",
     "output_type": "stream",
     "text": [
      "python\n",
      "javascript\n",
      "SQL\n",
      "SQL\n",
      "javascript\n",
      "Java\n",
      "4\n",
      "['python', 'javascript', 'SQL', 'Java']\n",
      "------------------------------------------------------------\n",
      "['c#', 'python', 'javascript', 'SQL', 'Java']\n",
      "['c#', 'python', 'javascript', 'SQL']\n",
      "['python', 'javascript', 'SQL']\n"
     ]
    }
   ],
   "source": [
    "#陣列練習\n",
    "my_list=[]                                 #多種陣列宣告方式\n",
    "my_list1=list()\n",
    "my_list2=[\"python\",\"javascript\",\"SQL\"]\n",
    "print(my_list2[0])\n",
    "print(my_list2[1])\n",
    "print(my_list2[2])\n",
    "print(my_list2[-1])\n",
    "print(my_list2[-2])\n",
    "my_list2.append(\"Java\")\n",
    "print(my_list2[-1])\n",
    "print(len(my_list2))\n",
    "print(my_list2)\n",
    "print(\"------------------------------------------------------------\")\n",
    "my_list2.insert(0,\"c#\")\n",
    "print(my_list2)\n",
    "del my_list2[-1]\n",
    "print(my_list2)\n",
    "my_list2.remove(\"c#\")\n",
    "print(my_list2)"
   ]
  },
  {
   "cell_type": "code",
   "execution_count": 5,
   "metadata": {},
   "outputs": [
    {
     "name": "stdout",
     "output_type": "stream",
     "text": [
      "['python', 'jn']\n"
     ]
    }
   ],
   "source": [
    "#刪除練習\n",
    "languages = ['python','jn','go']\n",
    "del languages[-1]                #從後開始數\n",
    "print(languages)"
   ]
  },
  {
   "cell_type": "code",
   "execution_count": 9,
   "metadata": {},
   "outputs": [
    {
     "name": "stdout",
     "output_type": "stream",
     "text": [
      "True\n",
      "False\n"
     ]
    }
   ],
   "source": [
    "a=['python','js','go']\n",
    "print ('python'  in a)\n",
    "print ('java' in a)"
   ]
  },
  {
   "cell_type": "code",
   "execution_count": 10,
   "metadata": {},
   "outputs": [
    {
     "name": "stdout",
     "output_type": "stream",
     "text": [
      "['python', 'js', 'go', 'python', 'js', 'go', 'python', 'js', 'go', 'python', 'js', 'go', 'python', 'js', 'go']\n"
     ]
    }
   ],
   "source": [
    "a=['python','js','go']\n",
    "print(a*5)"
   ]
  },
  {
   "cell_type": "code",
   "execution_count": 12,
   "metadata": {},
   "outputs": [
    {
     "name": "stdout",
     "output_type": "stream",
     "text": [
      "[1, 2, 3]\n",
      "[1, 3, 6, 7, 9]\n",
      "[1, 2, 3, 4, 6, 5, 7]\n",
      "1\n",
      "7\n",
      "0\n",
      "1\n",
      "[7, 5, 6, 4, 3, 2, 1]\n",
      "[1, 2, 3, 4, 5, 6, 7]\n"
     ]
    }
   ],
   "source": [
    "#串列取值\n",
    "a=[1,2,3,4,6,5,7,8,9]\n",
    "b=a[0:3]  #範圍取值 \n",
    "print(b)\n",
    "c=a[0:9:2]   #間隔取值\n",
    "print(c)\n",
    "del a[7:9]   #刪除串列某範圍的值\n",
    "print(a)\n",
    "print(min(a))   #最小值\n",
    "print(max(a))   #最大值\n",
    "print(a.index(1))   # 1出現的索引值\n",
    "print(a.count(1))   # 1出現的次數\n",
    "a.reverse()  #串列反轉\n",
    "print(a)\n",
    "a.sort()    #串列排序\n",
    "print(a)"
   ]
  },
  {
   "cell_type": "code",
   "execution_count": 1,
   "metadata": {},
   "outputs": [
    {
     "name": "stdout",
     "output_type": "stream",
     "text": [
      "('python', 'js', 'go')\n",
      "python\n"
     ]
    }
   ],
   "source": [
    "# tuple練習\n",
    "a_list = ['python','js','go']\n",
    "a_tuple = tuple(a_list)\n",
    "print(a_tuple)\n",
    "print(a_tuple[0])"
   ]
  },
  {
   "cell_type": "code",
   "execution_count": 2,
   "metadata": {},
   "outputs": [
    {
     "name": "stdout",
     "output_type": "stream",
     "text": [
      "[1, 2, 3, 4, 5, 6, 7]\n",
      "(1, 2, 3, 4, 5, 6, 7)\n",
      "1\n"
     ]
    }
   ],
   "source": [
    "a=[1,2,3,4,5,6,7]\n",
    "a_tuple=tuple(a)\n",
    "print(a)\n",
    "print(a_tuple)\n",
    "print(a_tuple[0])"
   ]
  },
  {
   "cell_type": "code",
   "execution_count": 14,
   "metadata": {},
   "outputs": [
    {
     "name": "stdout",
     "output_type": "stream",
     "text": [
      "tony\n",
      "20\n",
      "python\n",
      "-------------------------------------------------------------------------------------------------------\n",
      "{'name': 'tony', 'age': 20, 'sex': 'M', 'height': 170, 'weight': 50}\n",
      "-------------------------------------------------------------------------------------------------------\n",
      "dict_items([('name', 'tony'), ('age', 20), ('sex', 'M'), ('height', 170), ('weight', 50)])\n",
      "-------------------------------------------------------------------------------------------------------\n",
      "dict_keys(['name', 'age', 'sex', 'height', 'weight'])\n",
      "-------------------------------------------------------------------------------------------------------\n",
      "dict_values(['tony', 20, 'M', 170, 50])\n",
      " \n",
      "{'name': 'tony', 'age': 20, 'sex': 'M', 'height': 170, 'weight': 55}\n"
     ]
    }
   ],
   "source": [
    "#dictionary(簡稱dict),是含有key值的串列(lixt)\n",
    "person_dict={'name':'tony','age':20,'sex':'M','height':170,'weight':50}\n",
    "print(person_dict['name'])\n",
    "print(person_dict['age'])\n",
    "a_list=['python','java','vb']\n",
    "a_dict={0:'python',1:'jave',2:'vb'}\n",
    "print(a_dict[0])\n",
    "print('-------------------------------------------------------------------------------------------------------')\n",
    "print(person_dict)\n",
    "print('-------------------------------------------------------------------------------------------------------')\n",
    "print(person_dict.items())\n",
    "print('-------------------------------------------------------------------------------------------------------')\n",
    "print(person_dict.keys())\n",
    "print('-------------------------------------------------------------------------------------------------------')\n",
    "print(person_dict.values())\n",
    "print(' ')\n",
    "a=['name','age','sex','height','weight']\n",
    "b=['tony',20,'M',170,55]\n",
    "ab_dict=dict(zip(a,b))\n",
    "print(ab_dict)"
   ]
  },
  {
   "cell_type": "code",
   "execution_count": null,
   "metadata": {},
   "outputs": [],
   "source": []
  }
 ],
 "metadata": {
  "kernelspec": {
   "display_name": "Python 3",
   "language": "python",
   "name": "python3"
  },
  "language_info": {
   "codemirror_mode": {
    "name": "ipython",
    "version": 3
   },
   "file_extension": ".py",
   "mimetype": "text/x-python",
   "name": "python",
   "nbconvert_exporter": "python",
   "pygments_lexer": "ipython3",
   "version": "3.6.4"
  }
 },
 "nbformat": 4,
 "nbformat_minor": 2
}
